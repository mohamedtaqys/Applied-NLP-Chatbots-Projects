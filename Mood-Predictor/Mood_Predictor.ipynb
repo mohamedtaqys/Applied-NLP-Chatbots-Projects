{
  "nbformat": 4,
  "nbformat_minor": 0,
  "metadata": {
    "colab": {
      "provenance": []
    },
    "kernelspec": {
      "name": "python3",
      "display_name": "Python 3"
    },
    "language_info": {
      "name": "python"
    }
  },
  "cells": [
    {
      "cell_type": "markdown",
      "source": [
        "---\n",
        "**Author:** Mohamed-Taqy Salmi — AI & Full-Stack Developer  \n",
        "This project uses open-source libraries (NLTK, scikit-learn, etc.).  \n",
        "See `README.md` for details and `requirements.txt` for dependencies.  \n",
        "Connect with me on [LinkedIn](https://www.linkedin.com/in/mohamedtaqysalmi/)\n",
        "\n",
        "---\n"
      ],
      "metadata": {
        "id": "3h25p-32aN57"
      }
    },
    {
      "cell_type": "markdown",
      "source": [
        "# **Mood-Predictor: AI-Powered Mood Detection Chatbot**\n",
        "Mood-Predictor is a conversational AI chatbot that uses natural language processing (NLP) techniques to analyze and predict a user's mood based on their responses. The tool employs TextBlob, a powerful NLP library, to perform sentiment analysis and assess the emotional tone of text input. By asking users a series of simple questions, it determines whether the user is feeling happy, sad, or neutral.\n",
        "\n",
        "---"
      ],
      "metadata": {
        "id": "3ysRAhexPc1f"
      }
    },
    {
      "cell_type": "markdown",
      "source": [
        "## Importing Libraries:\n",
        "  TextBlob: A Python library for processing textual data and performing tasks such as part-of-speech tagging, noun phrase extraction, and sentiment analysis. In this case, we use TextBlob for sentiment analysis to determine the mood of the user."
      ],
      "metadata": {
        "id": "xrVHj23lPj_Q"
      }
    },
    {
      "cell_type": "code",
      "source": [
        "from textblob import TextBlob"
      ],
      "metadata": {
        "id": "rvhRT3eBPaW-"
      },
      "execution_count": null,
      "outputs": []
    },
    {
      "cell_type": "markdown",
      "source": [
        "## Mood Prediction Function:\n",
        "This function will interact with the user, asking them three questions. After receiving their answers, it will use TextBlob to analyze the sentiment of the answers and determine whether the user is feeling happy, sad, or neutral based on the polarity of their responses.\n",
        "\n",
        "1. The bot introduces itself and prepares the user for the questions.\n",
        "2. These are the three questions the bot will ask to understand the user's mood:\n",
        "  - \"How are you feeling today? (Please describe your mood in a sentence)\",\n",
        "  - \"What was the highlight of your day?\",\n",
        "  - \"Is there anything bothering you?\"\n",
        "3. The program collects user responses and stores them in a list called answers.\n",
        "4. The individual responses are combined into a single string of text (user_text), which will be analyzed for sentiment.\n",
        "5. The TextBlob object (blob) is created using the combined text. The polarity value determines the sentiment of the text:\n",
        "  - Polarity ranges from -1 (negative) to 1 (positive).\n",
        "  - Neutral responses typically have a polarity score close to 0.\n",
        "6. Based on the polarity score, the mood is classified into three categories:\n",
        "  - Happy: If the polarity is greater than 0.1.\n",
        "  - Sad: If the polarity is less than -0.1.\n",
        "  - Neutral: If the polarity is between -0.1 and 0.1.\n",
        "7. The bot informs the user of its prediction based on their responses.\n",
        "8. Depending on the detected mood, the bot responds with an appropriate message.\n",
        "  - Happy: Positive and uplifting messages.\n",
        "  - Sad: Supportive and encouraging messages.\n",
        "  - Neutral: Calm and balanced responses.\n",
        "9. The bot ends the conversation with a positive note, thanking the user for sharing their feelings."
      ],
      "metadata": {
        "id": "AU7OMEDsPvlC"
      }
    },
    {
      "cell_type": "code",
      "execution_count": null,
      "metadata": {
        "colab": {
          "base_uri": "https://localhost:8080/"
        },
        "id": "ZIZ5o0gbOROT",
        "outputId": "8291ffb3-a8e9-43e5-f217-a6d65db5f925"
      },
      "outputs": [
        {
          "output_type": "stream",
          "name": "stdout",
          "text": [
            "Hello! I’d like to ask you a few questions to predict your mood.\n",
            "How are you feeling today? (Please describe your mood in a sentence) Today was a good day, it true that i have some problems in working, but in general it was normal\n",
            "What was the highlight of your day? I have been working in various projects with a touch of creativity and goodness, i have done a visit to my uncle and then watched a football match\n",
            "Is there anything bothering you? Yes, an error in working but i have fixed it\n",
            "\n",
            "I think you are feeling happy today.\n",
            "Here's something for you: I am glad to hear you're feeling good!\n"
          ]
        }
      ],
      "source": [
        "def predict_mood():\n",
        "    print(\"Hello! I’d like to ask you a few questions to predict your mood.\")\n",
        "\n",
        "    answers = []\n",
        "    questions = [\n",
        "        \"How are you feeling today? (Please describe your mood in a sentence)\",\n",
        "        \"What was the highlight of your day?\",\n",
        "        \"Is there anything bothering you?\"\n",
        "    ]\n",
        "\n",
        "    for question in questions:\n",
        "        answer = input(question + \" \")\n",
        "        answers.append(answer)\n",
        "\n",
        "    user_text = \" \".join(answers)\n",
        "\n",
        "    blob = TextBlob(user_text)\n",
        "    polarity = blob.sentiment.polarity\n",
        "\n",
        "    if polarity > 0.1:\n",
        "        mood = 'happy'\n",
        "    elif polarity < -0.1:\n",
        "        mood = 'sad'\n",
        "    else:\n",
        "        mood = 'neutral'\n",
        "\n",
        "    mood_responses = {\n",
        "        'happy': [\"I am glad to hear you're feeling good!\", \"That's great! Keep it up!\", \"You sound really positive!\"],\n",
        "        'sad': [\"I'm sorry you're feeling down. I hope things get better.\", \"It's okay to feel sad sometimes. Take care of yourself.\", \"I understand. I hope your mood improves soon.\"],\n",
        "        'neutral': [\"Got it. Sometimes things are just neutral.\", \"It’s a normal day, I see.\", \"Okay, it sounds like you're doing alright.\"]\n",
        "    }\n",
        "\n",
        "    print(f\"\\nI think you are feeling {mood} today.\")\n",
        "    print(f\"Here's something for you: {mood_responses[mood][0]}\")\n",
        "\n",
        "predict_mood()\n"
      ]
    }
  ]
}